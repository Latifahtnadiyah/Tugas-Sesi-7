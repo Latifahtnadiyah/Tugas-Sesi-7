{
 "cells": [
  {
   "cell_type": "markdown",
   "id": "b317782a",
   "metadata": {},
   "source": [
    "<hr>\n",
    "<h4>Tugas Sesi 7</h4>\n",
    "\n",
    "1. Buatlah program untuk membalik sebuah kalimat, misal :\n",
    "    \n",
    "    <h4>input  : \"LUPA-LUPA INGAT\"\n",
    "        \n",
    "    output : \"TAGNI APUL-APUL\"</h4>"
   ]
  },
  {
   "cell_type": "code",
   "execution_count": 4,
   "id": "8fdfaff0",
   "metadata": {},
   "outputs": [
    {
     "name": "stdout",
     "output_type": "stream",
     "text": [
      "teks : LUPA-LUPA INGAT\n",
      "TAGNI APUL-APUL \n"
     ]
    }
   ],
   "source": [
    "def balikan (teks):\n",
    "    balik = \" \"\n",
    "    for i in  teks :\n",
    "        balik = i + balik\n",
    "    return balik\n",
    "    \n",
    "print (balikan(str(input(\"teks : \"))))"
   ]
  },
  {
   "cell_type": "markdown",
   "id": "100934c4",
   "metadata": {},
   "source": [
    "2. Buatlah program untuk menghitung jumlah masing-masing huruf vokal, dengan output seperti kata berikut :\n",
    "    \n",
    " Kalimat : <h4>\"UNIVERSITAS NUSA PUTERA\"</h4>\n",
    "    \n",
    " Output  :<ul>\n",
    "    <li> Jumlah huruf A = 3</li>\n",
    "    <li> Jumlah huruf I = 2</li>\n",
    "    <li> Jumlah huruf U = 3</li>\n",
    "    <li> Jumlah huruf E = 2</li>\n",
    "    <li> Jumlah huruf O = 0\n",
    "    <li>Total jumlah huruf vokal = 10\n",
    "    </ul>\n",
    "    \n",
    "    "
   ]
  },
  {
   "cell_type": "code",
   "execution_count": 12,
   "id": "a747ebea",
   "metadata": {},
   "outputs": [
    {
     "name": "stdout",
     "output_type": "stream",
     "text": [
      "Masukkan teks : UNIVERSITAS NUSA PUTERA\n",
      "  a -> 3\n",
      "  i -> 2\n",
      "  u -> 3\n",
      "  e -> 2\n",
      "  o -> 0\n",
      "\n",
      "Total huruf vokal : 10\n"
     ]
    }
   ],
   "source": [
    "teks = input (\"Masukkan teks : \"). lower()\n",
    "huruf_vokal = {\n",
    "    'a' : 0,\n",
    "    'i' : 0,\n",
    "    'u' : 0,\n",
    "    'e' : 0,\n",
    "    'o' : 0\n",
    "}\n",
    "total_huruf_vokal = 0\n",
    "\n",
    "for karakter in teks:\n",
    "    if karakter in ['a', 'i', 'u', 'e', 'o']:\n",
    "        huruf_vokal[karakter] += 1\n",
    "        total_huruf_vokal += 1\n",
    "        \n",
    "\n",
    "\n",
    "print (f\"\"\"\\\n",
    "  a -> {huruf_vokal ['a']}\n",
    "  i -> {huruf_vokal ['i']}\n",
    "  u -> {huruf_vokal ['u']}\n",
    "  e -> {huruf_vokal ['e']}\n",
    "  o -> {huruf_vokal ['o']}\n",
    "\"\"\")\n",
    "print(f'Total huruf vokal : {total_huruf_vokal}')\n",
    "    "
   ]
  }
 ],
 "metadata": {
  "kernelspec": {
   "display_name": "Python 3 (ipykernel)",
   "language": "python",
   "name": "python3"
  },
  "language_info": {
   "codemirror_mode": {
    "name": "ipython",
    "version": 3
   },
   "file_extension": ".py",
   "mimetype": "text/x-python",
   "name": "python",
   "nbconvert_exporter": "python",
   "pygments_lexer": "ipython3",
   "version": "3.9.12"
  }
 },
 "nbformat": 4,
 "nbformat_minor": 5
}
